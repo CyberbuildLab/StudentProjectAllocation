{
 "cells": [
  {
   "cell_type": "code",
   "execution_count": 20,
   "id": "b9661e9a",
   "metadata": {},
   "outputs": [
    {
     "name": "stdout",
     "output_type": "stream",
     "text": [
      "Defaulting to user installation because normal site-packages is not writeable\n",
      "Requirement already satisfied: pandas in c:\\programdata\\anaconda3\\lib\\site-packages (1.5.3)\n",
      "Requirement already satisfied: openpyxl in c:\\programdata\\anaconda3\\lib\\site-packages (3.0.10)\n",
      "Requirement already satisfied: python-dateutil>=2.8.1 in c:\\programdata\\anaconda3\\lib\\site-packages (from pandas) (2.8.2)\n",
      "Requirement already satisfied: pytz>=2020.1 in c:\\programdata\\anaconda3\\lib\\site-packages (from pandas) (2022.7)\n",
      "Requirement already satisfied: numpy>=1.21.0 in c:\\programdata\\anaconda3\\lib\\site-packages (from pandas) (1.24.3)\n",
      "Requirement already satisfied: et_xmlfile in c:\\programdata\\anaconda3\\lib\\site-packages (from openpyxl) (1.1.0)\n",
      "Requirement already satisfied: six>=1.5 in c:\\programdata\\anaconda3\\lib\\site-packages (from python-dateutil>=2.8.1->pandas) (1.16.0)\n",
      "Note: you may need to restart the kernel to use updated packages.\n"
     ]
    }
   ],
   "source": [
    "pip install pandas openpyxl"
   ]
  },
  {
   "cell_type": "code",
   "execution_count": 21,
   "id": "0329fd23",
   "metadata": {},
   "outputs": [],
   "source": [
    "from tkinter import filedialog\n",
    "from tkinter import *\n",
    "root = Tk()\n",
    "root.withdraw()\n",
    "\n",
    "import pandas as pd\n"
   ]
  },
  {
   "cell_type": "code",
   "execution_count": null,
   "id": "2a8a03a9",
   "metadata": {},
   "outputs": [],
   "source": [
    "file_path_readers = filedialog.askopenfilename(title=\"Select file listing the readers allocationa)\")\n",
    "print(file_path_readers)"
   ]
  },
  {
   "cell_type": "code",
   "execution_count": 45,
   "id": "c02c1349",
   "metadata": {},
   "outputs": [
    {
     "name": "stdout",
     "output_type": "stream",
     "text": [
      "Final Allocations data loaded successfully!\n"
     ]
    }
   ],
   "source": [
    "\n",
    "# Read the 'Students' sheet from the 'data' file into a pandas DataFrame\n",
    "sheet_name = 'Final Allocations'\n",
    "try:\n",
    "    data_projects = pd.read_excel(file_path_readers, sheet_name=sheet_name)\n",
    "    print(f\"{sheet_name} data loaded successfully!\")\n",
    "except Exception as e:\n",
    "    print(f\"An error occurred while loading {sheet_name} data: {e}\")\n",
    "    "
   ]
  },
  {
   "cell_type": "code",
   "execution_count": 46,
   "id": "f7bc7fc0",
   "metadata": {},
   "outputs": [
    {
     "name": "stdout",
     "output_type": "stream",
     "text": [
      "['Staff Name', 'Count 1st Reader', 'Count 2nd Reader', 'Count Total']\n",
      "{'Medina-Lopez': [2, 2, 4], 'Angeloudis': [3, 1, 4], 'Ooi': [2, 2, 4], 'Beckett': [2, 1, 3], 'SmithSean': [4, 0, 4], 'Sutman': [0, 4, 4], 'Beevers': [2, 2, 4], 'Hadden': [3, 0, 3], 'Bisby': [1, 2, 3], 'Chai': [2, 2, 4], 'Campbell-Lochrie': [0, 2, 2], 'Welch': [1, 2, 3], 'Rush': [2, 2, 4], 'Carvel': [0, 2, 2], 'Fernando': [3, 1, 4], 'Forde': [2, 0, 2], 'Correia Semiao': [2, 2, 4], 'Chatzisymeon': [2, 2, 4], 'Teixeira': [1, 0, 1], 'Fosas': [2, 1, 3], 'Bosché': [4, 0, 4], 'Giannopoulos': [0, 3, 3], 'Law': [1, 1, 2], 'Lu': [2, 2, 4], 'Pankaj': [0, 3, 3], 'Papanicolopulos': [1, 3, 4], 'Taffetani': [1, 2, 3], 'Reynolds': [2, 2, 4], 'Theodossopoulos': [1, 0, 1], 'Bros-Williamson': [3, 0, 3], 'SmithSimon': [0, 3, 3], 'Tafidis': [2, 1, 3], 'Stratford': [0, 3, 3], 'Yardim': [2, 2, 4]}\n",
      "          Staff Name Count 1st Reader Count 2nd Reader Count Total\n",
      "1         Angeloudis                3                1           4\n",
      "3            Beckett                2                1           3\n",
      "6            Beevers                2                2           4\n",
      "8              Bisby                1                2           3\n",
      "20            Bosché                4                0           4\n",
      "29   Bros-Williamson                3                0           3\n",
      "10  Campbell-Lochrie                0                2           2\n",
      "13            Carvel                0                2           2\n",
      "9               Chai                2                2           4\n",
      "17      Chatzisymeon                2                2           4\n",
      "16    Correia Semiao                2                2           4\n",
      "14          Fernando                3                1           4\n",
      "15             Forde                2                0           2\n",
      "19             Fosas                2                1           3\n",
      "21      Giannopoulos                0                3           3\n",
      "7             Hadden                3                0           3\n",
      "22               Law                1                1           2\n",
      "23                Lu                2                2           4\n",
      "0       Medina-Lopez                2                2           4\n",
      "2                Ooi                2                2           4\n",
      "24            Pankaj                0                3           3\n",
      "25   Papanicolopulos                1                3           4\n",
      "27          Reynolds                2                2           4\n",
      "12              Rush                2                2           4\n",
      "4          SmithSean                4                0           4\n",
      "30        SmithSimon                0                3           3\n",
      "32         Stratford                0                3           3\n",
      "5             Sutman                0                4           4\n",
      "26         Taffetani                1                2           3\n",
      "31           Tafidis                2                1           3\n",
      "18          Teixeira                1                0           1\n",
      "28   Theodossopoulos                1                0           1\n",
      "11             Welch                1                2           3\n",
      "33            Yardim                2                2           4\n"
     ]
    }
   ],
   "source": [
    "import os\n",
    "import openpyxl\n",
    "\n",
    "#=== CREATE SPREADSHEET FOR STUDENTS AND SUPERVISORS ============\n",
    "#----------------------------------------------------------------\n",
    "# Create new DataFrame to save preferences as table\n",
    "\n",
    "# Define the column names\n",
    "results_columns = ['Staff Name', 'Count 1st Reader', 'Count 2nd Reader', 'Count Total']\n",
    "\n",
    "print(results_columns)\n",
    "\n",
    "# Create an empty DataFrame with specified columns\n",
    "results_df = pd.DataFrame(columns=results_columns)\n",
    "\n",
    "\n",
    "#----------------------------------------------------------------\n",
    "# Add data to results DataFrame\n",
    "\n",
    "\n",
    "stats = {}\n",
    "\n",
    "\n",
    "for index, row in data_projects.iterrows():\n",
    "\n",
    "    supervisor = row['Supervisor']\n",
    "    reader = row['2nd Reader']\n",
    "    \n",
    "    if supervisor in stats:\n",
    "        new_counts = [stats[supervisor][0]+1, stats[supervisor][1], stats[supervisor][2]+1]\n",
    "        stats[supervisor] = new_counts \n",
    "    else:\n",
    "        new_counts = [1,0,1]\n",
    "        stats[supervisor] = new_counts \n",
    "\n",
    "    if reader in stats:\n",
    "        new_counts = [stats[reader][0], stats[reader][1]+1, stats[reader][2]+1]\n",
    "        stats[reader] = new_counts \n",
    "    else:\n",
    "        new_counts = [0,1,1]\n",
    "        stats[reader] = new_counts \n",
    "\n",
    "print(stats)\n",
    "\n",
    "for name, stat in stats.items():\n",
    "\n",
    "    result = pd.DataFrame({'Staff Name' : [name],\n",
    "                           'Count 1st Reader' : [stat[0]],\n",
    "                           'Count 2nd Reader' : [stat[1]], \n",
    "                           'Count Total' : [stat[2]]})\n",
    "                \n",
    "    results_df = pd.concat([results_df, result], ignore_index=True)\n",
    "\n",
    "\n",
    "if 'NONE' in results_df.columns:\n",
    "    results_df.drop(columns=['NONE'], inplace=True)\n",
    "\n",
    "results_df = results_df.sort_values(by='Staff Name')\n",
    "\n",
    "print(results_df)\n"
   ]
  },
  {
   "cell_type": "code",
   "execution_count": 47,
   "id": "aa29d4e2",
   "metadata": {},
   "outputs": [
    {
     "name": "stdout",
     "output_type": "stream",
     "text": [
      "CEE_Thesis_24-25_Reader-Allocation_Statistics.xlsx\n",
      "C:\\Users\\fbosche\\OneDrive - University of Edinburgh\\Teaching\\2024-25\\Thesis-MEng_2024-25\\CEE_Thesis_24-25_Reader-Allocation_Statistics.xlsx\n",
      "Sheet 'Final Allocations' has been successfully written to C:\\Users\\fbosche\\OneDrive - University of Edinburgh\\Teaching\\2024-25\\Thesis-MEng_2024-25\\CEE_Thesis_24-25_Reader-Allocation_Statistics.xlsx\n",
      "['Sheet', 'Final Allocations']\n"
     ]
    }
   ],
   "source": [
    "from openpyxl.worksheet.table import Table, TableStyleInfo\n",
    "\n",
    "#Set path for the results XLSX file:\n",
    "file_name_readers_noextension = os.path.splitext(os.path.basename(file_path_readers))[0]\n",
    "file_name_results = file_name_readers_noextension + '_Statistics.xlsx'\n",
    "print(file_name_results)\n",
    "\n",
    "folder_results = os.path.dirname(os.path.abspath(file_path_readers))\n",
    "file_path_results = os.path.join(folder_results,file_name_results)\n",
    "print (file_path_results)\n",
    "\n",
    "wb = openpyxl.Workbook()\n",
    "wb.save(file_path_results)\n",
    "\n",
    "# Use ExcelWriter to write to the specified filename\n",
    "with pd.ExcelWriter(file_path_results, mode='a', engine='openpyxl', if_sheet_exists='replace') as writer:\n",
    "    results_df.to_excel(writer, sheet_name='Final Allocations', index=False)\n",
    "\n",
    "    # Load workbook and worksheet\n",
    "    wb = writer.book\n",
    "    ws = wb[\"Final Allocations\"]\n",
    "\n",
    "    # Define Table Range\n",
    "    table = Table(displayName=\"Table1\", ref=ws.dimensions)\n",
    "\n",
    "    # Apply Table Style\n",
    "    style = TableStyleInfo(name=\"TableStyleMedium9\", showFirstColumn=False,\n",
    "                           showLastColumn=False, showRowStripes=True, showColumnStripes=False)\n",
    "    table.tableStyleInfo = style\n",
    "\n",
    "    # Add table to worksheet\n",
    "    ws.add_table(table)\n",
    "\n",
    "    #wb.save(file_path_results)\n",
    "\n",
    "\n",
    "print(f\"Sheet 'Final Allocations' has been successfully written to {file_path_results}\")\n",
    "\n",
    "wb = openpyxl.load_workbook(file_path_results)\n",
    "print(wb.sheetnames)\n",
    "defaultSheet = wb['Sheet']\n",
    "wb.remove(defaultSheet)\n",
    "wb.save(file_path_results)"
   ]
  }
 ],
 "metadata": {
  "kernelspec": {
   "display_name": "Python 3 (ipykernel)",
   "language": "python",
   "name": "python3"
  },
  "language_info": {
   "codemirror_mode": {
    "name": "ipython",
    "version": 3
   },
   "file_extension": ".py",
   "mimetype": "text/x-python",
   "name": "python",
   "nbconvert_exporter": "python",
   "pygments_lexer": "ipython3",
   "version": "3.11.4"
  }
 },
 "nbformat": 4,
 "nbformat_minor": 5
}
