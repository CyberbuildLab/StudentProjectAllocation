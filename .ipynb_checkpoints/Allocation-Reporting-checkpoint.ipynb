{
 "cells": [
  {
   "cell_type": "code",
   "execution_count": 1,
   "id": "b9661e9a",
   "metadata": {},
   "outputs": [
    {
     "name": "stdout",
     "output_type": "stream",
     "text": [
      "Defaulting to user installation because normal site-packages is not writeable\n",
      "Requirement already satisfied: pandas in c:\\programdata\\anaconda3\\lib\\site-packages (1.5.3)\n",
      "Requirement already satisfied: openpyxl in c:\\programdata\\anaconda3\\lib\\site-packages (3.0.10)\n",
      "Requirement already satisfied: python-dateutil>=2.8.1 in c:\\programdata\\anaconda3\\lib\\site-packages (from pandas) (2.8.2)\n",
      "Requirement already satisfied: pytz>=2020.1 in c:\\programdata\\anaconda3\\lib\\site-packages (from pandas) (2022.7)\n",
      "Requirement already satisfied: numpy>=1.21.0 in c:\\programdata\\anaconda3\\lib\\site-packages (from pandas) (1.24.3)\n",
      "Requirement already satisfied: et_xmlfile in c:\\programdata\\anaconda3\\lib\\site-packages (from openpyxl) (1.1.0)\n",
      "Requirement already satisfied: six>=1.5 in c:\\programdata\\anaconda3\\lib\\site-packages (from python-dateutil>=2.8.1->pandas) (1.16.0)\n",
      "Note: you may need to restart the kernel to use updated packages.\n"
     ]
    }
   ],
   "source": [
    "pip install pandas openpyxl"
   ]
  },
  {
   "cell_type": "code",
   "execution_count": 4,
   "id": "a24ef19d",
   "metadata": {},
   "outputs": [
    {
     "name": "stdout",
     "output_type": "stream",
     "text": [
      "C:/Users/fbosche/OneDrive - University of Edinburgh/Teaching/2024-25/Thesis-MEng_2024-25/Final Year CEE Students 2024_25.xlsx\n",
      "Students data loaded successfully!\n"
     ]
    }
   ],
   "source": [
    "from tkinter import filedialog\n",
    "from tkinter import *\n",
    "root = Tk()\n",
    "root.withdraw()\n",
    "\n",
    "import pandas as pd\n",
    "\n",
    "\n",
    "file_path_students = filedialog.askopenfilename(title=\"Select file listing student details)\")\n",
    "print(file_path_students)\n",
    "\n",
    "\n",
    "# Read the 'Students' sheet from the 'data' file into a pandas DataFrame\n",
    "sheet_name = 'Students'\n",
    "try:\n",
    "    data_students = pd.read_excel(file_path_students, sheet_name=sheet_name)\n",
    "    print(f\"{sheet_name} data loaded successfully!\")\n",
    "except Exception as e:\n",
    "    print(f\"An error occurred while loading {sheet_name} data: {e}\")\n"
   ]
  },
  {
   "cell_type": "code",
   "execution_count": 7,
   "id": "9e6de930",
   "metadata": {},
   "outputs": [
    {
     "name": "stdout",
     "output_type": "stream",
     "text": [
      "C:/Users/fbosche/OneDrive - University of Edinburgh/Teaching/2024-25/Thesis-MEng_2024-25/CEE_Thesis_24-25_Topic-Directory.xlsx\n",
      "Topics data loaded successfully!\n"
     ]
    },
    {
     "name": "stderr",
     "output_type": "stream",
     "text": [
      "C:\\ProgramData\\anaconda3\\Lib\\site-packages\\openpyxl\\worksheet\\_read_only.py:79: UserWarning: Data Validation extension is not supported and will be removed\n",
      "  for idx, row in parser.parse():\n"
     ]
    }
   ],
   "source": [
    "\n",
    "file_path_topics = filedialog.askopenfilename(title=\"Select file listing project topic details\")\n",
    "print(file_path_topics)\n",
    "\n",
    "# Read the 'Topics' sheet from the 'directory' file into a pandas DataFrame\n",
    "sheet_name = 'Topics'\n",
    "try:\n",
    "    data_topics = pd.read_excel(file_path_topics, sheet_name=sheet_name)\n",
    "    print(f\"{sheet_name} data loaded successfully!\")\n",
    "except Exception as e:\n",
    "    print(f\"An error occurred while loading {sheet_name} data: {e}\")\n",
    "    "
   ]
  },
  {
   "cell_type": "code",
   "execution_count": 9,
   "id": "caf4ec22",
   "metadata": {},
   "outputs": [
    {
     "name": "stdout",
     "output_type": "stream",
     "text": [
      "C:/Users/fbosche/OneDrive - University of Edinburgh/Teaching/2024-25/Thesis-MEng_2024-25/Allocation/Allocation_2024-25_Results_20240918-0938_Max2studens.xlsx\n",
      "Student_allocations data loaded successfully!\n"
     ]
    }
   ],
   "source": [
    "\n",
    "file_path_allocations = filedialog.askopenfilename(title=\"Select file listing the allocation optimisation results\")\n",
    "print(file_path_allocations)\n",
    "\n",
    "# Read the 'Student_allocationss' sheet from the 'allocation results' file into a pandas DataFrame\n",
    "sheet_name = 'Student_allocations'\n",
    "try:\n",
    "    data_allocations = pd.read_excel(file_path_allocations, sheet_name=sheet_name)\n",
    "    print(f\"{sheet_name} data loaded successfully!\")\n",
    "except Exception as e:\n",
    "    print(f\"An error occurred while loading {sheet_name} data: {e}\")\n",
    "    "
   ]
  },
  {
   "cell_type": "code",
   "execution_count": 10,
   "id": "88d59d40",
   "metadata": {},
   "outputs": [
    {
     "name": "stdout",
     "output_type": "stream",
     "text": [
      "C:/Users/fbosche/OneDrive - University of Edinburgh/Teaching/2024-25/Thesis-MEng_2024-25/Allocation/Self-proposals_2024-25.xlsx\n",
      "Student_selfproposals data loaded successfully!\n"
     ]
    }
   ],
   "source": [
    "\n",
    "file_path_selfproposals = filedialog.askopenfilename(title=\"Select file listing the self-proposed projects\")\n",
    "print(file_path_selfproposals)\n",
    "\n",
    "# Read the 'Student_selfproposals' sheet from the 'self-proposals' file into a pandas DataFrame\n",
    "sheet_name = 'Student_selfproposals'\n",
    "try:\n",
    "    data_selfproposals = pd.read_excel(file_path_selfproposals, sheet_name=sheet_name)\n",
    "    print(f\"{sheet_name} data loaded successfully!\")\n",
    "except Exception as e:\n",
    "    print(f\"An error occurred while loading {sheet_name} data: {e}\")"
   ]
  },
  {
   "cell_type": "code",
   "execution_count": 13,
   "id": "7dac7a7d",
   "metadata": {},
   "outputs": [
    {
     "name": "stdout",
     "output_type": "stream",
     "text": [
      "['Student', 'Email', 'Project Code', 'Supervisor', 'Project Title', 'Type', 'Source']\n",
      "Populating result for Agarwal, Iti with email s2221129@ed.ac.uk\n",
      "student allocation row:  Student                     Agarwal, Iti\n",
      "Project                        YARDIM-03\n",
      "Supervisor                        Yardim\n",
      "Student_preference_rank              1.0\n",
      "Project_not_preferred                NaN\n",
      "Supervisor_not_preferred             NaN\n",
      "Name: 0, dtype: object\n"
     ]
    },
    {
     "ename": "KeyError",
     "evalue": "'Project'",
     "output_type": "error",
     "traceback": [
      "\u001b[1;31m---------------------------------------------------------------------------\u001b[0m",
      "\u001b[1;31mKeyError\u001b[0m                                  Traceback (most recent call last)",
      "File \u001b[1;32mC:\\ProgramData\\anaconda3\\Lib\\site-packages\\pandas\\core\\indexes\\base.py:3802\u001b[0m, in \u001b[0;36mIndex.get_loc\u001b[1;34m(self, key, method, tolerance)\u001b[0m\n\u001b[0;32m   3801\u001b[0m \u001b[38;5;28;01mtry\u001b[39;00m:\n\u001b[1;32m-> 3802\u001b[0m     \u001b[38;5;28;01mreturn\u001b[39;00m \u001b[38;5;28mself\u001b[39m\u001b[38;5;241m.\u001b[39m_engine\u001b[38;5;241m.\u001b[39mget_loc(casted_key)\n\u001b[0;32m   3803\u001b[0m \u001b[38;5;28;01mexcept\u001b[39;00m \u001b[38;5;167;01mKeyError\u001b[39;00m \u001b[38;5;28;01mas\u001b[39;00m err:\n",
      "File \u001b[1;32mC:\\ProgramData\\anaconda3\\Lib\\site-packages\\pandas\\_libs\\index.pyx:138\u001b[0m, in \u001b[0;36mpandas._libs.index.IndexEngine.get_loc\u001b[1;34m()\u001b[0m\n",
      "File \u001b[1;32mC:\\ProgramData\\anaconda3\\Lib\\site-packages\\pandas\\_libs\\index.pyx:165\u001b[0m, in \u001b[0;36mpandas._libs.index.IndexEngine.get_loc\u001b[1;34m()\u001b[0m\n",
      "File \u001b[1;32mpandas\\_libs\\hashtable_class_helper.pxi:5745\u001b[0m, in \u001b[0;36mpandas._libs.hashtable.PyObjectHashTable.get_item\u001b[1;34m()\u001b[0m\n",
      "File \u001b[1;32mpandas\\_libs\\hashtable_class_helper.pxi:5753\u001b[0m, in \u001b[0;36mpandas._libs.hashtable.PyObjectHashTable.get_item\u001b[1;34m()\u001b[0m\n",
      "\u001b[1;31mKeyError\u001b[0m: 'Project'",
      "\nThe above exception was the direct cause of the following exception:\n",
      "\u001b[1;31mKeyError\u001b[0m                                  Traceback (most recent call last)",
      "Cell \u001b[1;32mIn[13], line 40\u001b[0m\n\u001b[0;32m     36\u001b[0m \u001b[38;5;28;01mfor\u001b[39;00m index2, row2 \u001b[38;5;129;01min\u001b[39;00m student_allocation_rows\u001b[38;5;241m.\u001b[39miterrows():\n\u001b[0;32m     38\u001b[0m     \u001b[38;5;28mprint\u001b[39m(\u001b[38;5;124m\"\u001b[39m\u001b[38;5;124mstudent allocation row: \u001b[39m\u001b[38;5;124m\"\u001b[39m, row2)\n\u001b[1;32m---> 40\u001b[0m     project_code \u001b[38;5;241m=\u001b[39m row[\u001b[38;5;124m'\u001b[39m\u001b[38;5;124mProject\u001b[39m\u001b[38;5;124m'\u001b[39m]\n\u001b[0;32m     41\u001b[0m     project_supervisor \u001b[38;5;241m=\u001b[39m row[\u001b[38;5;124m'\u001b[39m\u001b[38;5;124mSupervisor\u001b[39m\u001b[38;5;124m'\u001b[39m]\n\u001b[0;32m     42\u001b[0m     project_title \u001b[38;5;241m=\u001b[39m row[\u001b[38;5;124m'\u001b[39m\u001b[38;5;124mTitle\u001b[39m\u001b[38;5;124m'\u001b[39m]\n",
      "File \u001b[1;32mC:\\ProgramData\\anaconda3\\Lib\\site-packages\\pandas\\core\\series.py:981\u001b[0m, in \u001b[0;36mSeries.__getitem__\u001b[1;34m(self, key)\u001b[0m\n\u001b[0;32m    978\u001b[0m     \u001b[38;5;28;01mreturn\u001b[39;00m \u001b[38;5;28mself\u001b[39m\u001b[38;5;241m.\u001b[39m_values[key]\n\u001b[0;32m    980\u001b[0m \u001b[38;5;28;01melif\u001b[39;00m key_is_scalar:\n\u001b[1;32m--> 981\u001b[0m     \u001b[38;5;28;01mreturn\u001b[39;00m \u001b[38;5;28mself\u001b[39m\u001b[38;5;241m.\u001b[39m_get_value(key)\n\u001b[0;32m    983\u001b[0m \u001b[38;5;28;01mif\u001b[39;00m is_hashable(key):\n\u001b[0;32m    984\u001b[0m     \u001b[38;5;66;03m# Otherwise index.get_value will raise InvalidIndexError\u001b[39;00m\n\u001b[0;32m    985\u001b[0m     \u001b[38;5;28;01mtry\u001b[39;00m:\n\u001b[0;32m    986\u001b[0m         \u001b[38;5;66;03m# For labels that don't resolve as scalars like tuples and frozensets\u001b[39;00m\n",
      "File \u001b[1;32mC:\\ProgramData\\anaconda3\\Lib\\site-packages\\pandas\\core\\series.py:1089\u001b[0m, in \u001b[0;36mSeries._get_value\u001b[1;34m(self, label, takeable)\u001b[0m\n\u001b[0;32m   1086\u001b[0m     \u001b[38;5;28;01mreturn\u001b[39;00m \u001b[38;5;28mself\u001b[39m\u001b[38;5;241m.\u001b[39m_values[label]\n\u001b[0;32m   1088\u001b[0m \u001b[38;5;66;03m# Similar to Index.get_value, but we do not fall back to positional\u001b[39;00m\n\u001b[1;32m-> 1089\u001b[0m loc \u001b[38;5;241m=\u001b[39m \u001b[38;5;28mself\u001b[39m\u001b[38;5;241m.\u001b[39mindex\u001b[38;5;241m.\u001b[39mget_loc(label)\n\u001b[0;32m   1090\u001b[0m \u001b[38;5;28;01mreturn\u001b[39;00m \u001b[38;5;28mself\u001b[39m\u001b[38;5;241m.\u001b[39mindex\u001b[38;5;241m.\u001b[39m_get_values_for_loc(\u001b[38;5;28mself\u001b[39m, loc, label)\n",
      "File \u001b[1;32mC:\\ProgramData\\anaconda3\\Lib\\site-packages\\pandas\\core\\indexes\\base.py:3804\u001b[0m, in \u001b[0;36mIndex.get_loc\u001b[1;34m(self, key, method, tolerance)\u001b[0m\n\u001b[0;32m   3802\u001b[0m     \u001b[38;5;28;01mreturn\u001b[39;00m \u001b[38;5;28mself\u001b[39m\u001b[38;5;241m.\u001b[39m_engine\u001b[38;5;241m.\u001b[39mget_loc(casted_key)\n\u001b[0;32m   3803\u001b[0m \u001b[38;5;28;01mexcept\u001b[39;00m \u001b[38;5;167;01mKeyError\u001b[39;00m \u001b[38;5;28;01mas\u001b[39;00m err:\n\u001b[1;32m-> 3804\u001b[0m     \u001b[38;5;28;01mraise\u001b[39;00m \u001b[38;5;167;01mKeyError\u001b[39;00m(key) \u001b[38;5;28;01mfrom\u001b[39;00m \u001b[38;5;21;01merr\u001b[39;00m\n\u001b[0;32m   3805\u001b[0m \u001b[38;5;28;01mexcept\u001b[39;00m \u001b[38;5;167;01mTypeError\u001b[39;00m:\n\u001b[0;32m   3806\u001b[0m     \u001b[38;5;66;03m# If we have a listlike key, _check_indexing_error will raise\u001b[39;00m\n\u001b[0;32m   3807\u001b[0m     \u001b[38;5;66;03m#  InvalidIndexError. Otherwise we fall through and re-raise\u001b[39;00m\n\u001b[0;32m   3808\u001b[0m     \u001b[38;5;66;03m#  the TypeError.\u001b[39;00m\n\u001b[0;32m   3809\u001b[0m     \u001b[38;5;28mself\u001b[39m\u001b[38;5;241m.\u001b[39m_check_indexing_error(key)\n",
      "\u001b[1;31mKeyError\u001b[0m: 'Project'"
     ]
    }
   ],
   "source": [
    "\n",
    "#----------------------------------------------------------------\n",
    "# Create new DataFrame to save preferences as table\n",
    "\n",
    "# Define the column names\n",
    "results_columns = ['Student', 'Email', 'Project Code', 'Supervisor', 'Project Title', 'Subject Area', 'Type', 'Source']\n",
    "\n",
    "print(results_columns)\n",
    "\n",
    "# Create an empty DataFrame with specified columns\n",
    "results_df = pd.DataFrame(columns=results_columns)\n",
    "\n",
    "\n",
    "              \n",
    "#----------------------------------------------------------------\n",
    "# Add data to results DataFrame\n",
    "\n",
    "for index, row in data_students.iterrows():\n",
    "\n",
    "    student_name = row['Full Name']\n",
    "    student_email = row['Email Address']\n",
    "    print(f\"Populating result for {student_name} with email {student_email}\") \n",
    "    \n",
    "    project_code = \"\" \n",
    "    project_supervisor = \"\"\n",
    "    project_title = \"\"\n",
    "    project_type = \"\"\n",
    "    project_source = \"\"\n",
    "    \n",
    "    student_allocation_rows = data_allocations.loc[data_allocations['Student'] == student_name]\n",
    "    student_selfproposal_rows = data_selfproposals.loc[data_selfproposals['Student'] == student_name]\n",
    "    \n",
    "    if student_allocation_rows.empty == False:\n",
    "        \n",
    "        #print(\"student_allocation_rows: \", student_allocation_rows)\n",
    "        \n",
    "        for index2, row2 in student_allocation_rows.iterrows():\n",
    "            \n",
    "            print(\"student allocation row: \", row2)\n",
    "            \n",
    "            project_code = row2['Project']\n",
    "            \n",
    "            project_rows = data_topics.loc[data_topics['Code'] == project_code]\n",
    "            \n",
    "            if project_rows.empty == False:\n",
    "        \n",
    "                #print(\"project_rows: \", project_rows)\n",
    "        \n",
    "                for index3, row3 in project_rows.iterrows():\n",
    "            \n",
    "                    project_supervisor = row3['Supervisor']\n",
    "                    project_title = row3['Title']\n",
    "                    project_type = row3['Subject Area']\n",
    "                    project_type = row3['Type']\n",
    "                    project_source = \"Directory\"\n",
    "\n",
    "    elif student_selfproposal_rows.empty == False:\n",
    "        \n",
    "        #print(\"student_selfproposal_rows: \", student_selfproposal_rows)\n",
    "        \n",
    "        for index2, row2 in student_selfproposal_rows.iterrows():\n",
    "            \n",
    "            print(\"student selfproposal row: \", row2)\n",
    "            \n",
    "            project_code = row2['Project']   \n",
    "            project_supervisor = row2['Supervisor']\n",
    "            project_title = row2['Title']\n",
    "            project_type = row2['Subject Area']\n",
    "            project_type = row2['Type']\n",
    "            project_source = \"Directory\"\n",
    "                    \n",
    "            project_title = row['Title']\n",
    "            project_supervisor = row['Supervisor']\n",
    "            project_type = \"tbc\"\n",
    "            project_source = \"Selfproposal\"\n",
    "            \n",
    "    \n",
    "    student_result = pd.DataFrame({'Student' : [student_name],\n",
    "                                   'Email' : [student_email],\n",
    "                                   'Project Code' : [project_code], \n",
    "                                   'Supervisor' : [project_supervisor], \n",
    "                                   'Project Title' : [project_title],\n",
    "                                   'Type' : [project_type],\n",
    "                                   'Source' : [project_source]})\n",
    "                \n",
    "    results_df = pd.concat([results_df, student_result], ignore_index=True)\n",
    "\n",
    "    \n",
    "if 'NONE' in results_df.columns:\n",
    "    results_df.drop(columns=['NONE'], inplace=True)\n",
    "\n",
    "\n",
    "print(results_df)\n",
    "\n",
    "# Use ExcelWriter to write to the specified filename\n",
    "#with pd.ExcelWriter(file_path_data, mode='a', engine='openpyxl', if_sheet_exists='replace') as writer:\n",
    "#    pref_df.to_excel(writer, sheet_name='Final Allocations', index=False)\n",
    "\n",
    "print(f\"Sheet 'Final Allocations' has been successfully written to {file_path_results}\")\n"
   ]
  },
  {
   "cell_type": "code",
   "execution_count": null,
   "id": "28e5e294",
   "metadata": {},
   "outputs": [],
   "source": []
  }
 ],
 "metadata": {
  "kernelspec": {
   "display_name": "Python 3 (ipykernel)",
   "language": "python",
   "name": "python3"
  },
  "language_info": {
   "codemirror_mode": {
    "name": "ipython",
    "version": 3
   },
   "file_extension": ".py",
   "mimetype": "text/x-python",
   "name": "python",
   "nbconvert_exporter": "python",
   "pygments_lexer": "ipython3",
   "version": "3.11.4"
  }
 },
 "nbformat": 4,
 "nbformat_minor": 5
}
